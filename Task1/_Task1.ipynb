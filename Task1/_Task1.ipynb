{
 "cells": [
  {
   "cell_type": "code",
   "execution_count": null,
   "id": "4b355010",
   "metadata": {},
   "outputs": [],
   "source": []
  },
  {
   "cell_type": "markdown",
   "id": "6b8f63ff-ee44-461d-b728-33a1260c4d50",
   "metadata": {},
   "source": [
    "# IMPORT IMP Libraries "
   ]
  },
  {
   "cell_type": "code",
   "execution_count": null,
   "id": "edc16872",
   "metadata": {},
   "outputs": [],
   "source": []
  },
  {
   "cell_type": "code",
   "execution_count": null,
   "id": "e341aba3-eb29-49c4-a76f-673297c2eefd",
   "metadata": {},
   "outputs": [],
   "source": [
    "import pandas as pd\n",
    "import numpy as np\n",
    "import seaborn as sns"
   ]
  },
  {
   "cell_type": "markdown",
   "id": "c5866d74-f713-4b96-89d9-d4e6a264a1ed",
   "metadata": {},
   "source": [
    "# READ DATASET"
   ]
  },
  {
   "cell_type": "code",
   "execution_count": 17,
   "id": "eddbffd6-97a5-4965-aabd-08f50cafb56a",
   "metadata": {},
   "outputs": [],
   "source": [
    "df = pd.read_csv('orignal 1.csv')"
   ]
  },
  {
   "cell_type": "code",
   "execution_count": 19,
   "id": "6bbe87a3-e426-4a8f-b13b-dbcfdfc259cb",
   "metadata": {},
   "outputs": [
    {
     "data": {
      "text/plain": [
       "(17024, 4)"
      ]
     },
     "execution_count": 19,
     "metadata": {},
     "output_type": "execute_result"
    }
   ],
   "source": [
    "df.shape"
   ]
  },
  {
   "cell_type": "code",
   "execution_count": 291,
   "id": "7f2bfa92-a2e2-4c0e-9ae8-07e06ba4ea44",
   "metadata": {},
   "outputs": [
    {
     "name": "stdout",
     "output_type": "stream",
     "text": [
      "<class 'pandas.core.frame.DataFrame'>\n",
      "RangeIndex: 17024 entries, 0 to 17023\n",
      "Data columns (total 4 columns):\n",
      " #   Column        Non-Null Count  Dtype \n",
      "---  ------        --------------  ----- \n",
      " 0   Country Name  17024 non-null  object\n",
      " 1   Country Code  17024 non-null  object\n",
      " 2   years         17024 non-null  int64 \n",
      " 3   Population    17024 non-null  int64 \n",
      "dtypes: int64(2), object(2)\n",
      "memory usage: 532.1+ KB\n"
     ]
    }
   ],
   "source": [
    "df.info()"
   ]
  },
  {
   "cell_type": "code",
   "execution_count": 293,
   "id": "cc833ba4-ddd1-4516-96ee-986df1deb1d0",
   "metadata": {},
   "outputs": [],
   "source": [
    "df_clean = df.dropna()"
   ]
  },
  {
   "cell_type": "markdown",
   "id": "def6dc1c-eae6-490d-b4ea-97da909970ff",
   "metadata": {},
   "source": [
    "# Head and Tail"
   ]
  },
  {
   "cell_type": "code",
   "execution_count": 296,
   "id": "6ca84c1f-c6fe-4d51-8742-45c014bdefd8",
   "metadata": {},
   "outputs": [
    {
     "data": {
      "text/html": [
       "<div>\n",
       "<style scoped>\n",
       "    .dataframe tbody tr th:only-of-type {\n",
       "        vertical-align: middle;\n",
       "    }\n",
       "\n",
       "    .dataframe tbody tr th {\n",
       "        vertical-align: top;\n",
       "    }\n",
       "\n",
       "    .dataframe thead th {\n",
       "        text-align: right;\n",
       "    }\n",
       "</style>\n",
       "<table border=\"1\" class=\"dataframe\">\n",
       "  <thead>\n",
       "    <tr style=\"text-align: right;\">\n",
       "      <th></th>\n",
       "      <th>Country Name</th>\n",
       "      <th>Country Code</th>\n",
       "      <th>years</th>\n",
       "      <th>Population</th>\n",
       "    </tr>\n",
       "  </thead>\n",
       "  <tbody>\n",
       "    <tr>\n",
       "      <th>0</th>\n",
       "      <td>Aruba</td>\n",
       "      <td>ABW</td>\n",
       "      <td>1960</td>\n",
       "      <td>54922</td>\n",
       "    </tr>\n",
       "    <tr>\n",
       "      <th>1</th>\n",
       "      <td>Aruba</td>\n",
       "      <td>ABW</td>\n",
       "      <td>1961</td>\n",
       "      <td>55578</td>\n",
       "    </tr>\n",
       "    <tr>\n",
       "      <th>2</th>\n",
       "      <td>Aruba</td>\n",
       "      <td>ABW</td>\n",
       "      <td>1962</td>\n",
       "      <td>56320</td>\n",
       "    </tr>\n",
       "    <tr>\n",
       "      <th>3</th>\n",
       "      <td>Aruba</td>\n",
       "      <td>ABW</td>\n",
       "      <td>1963</td>\n",
       "      <td>57002</td>\n",
       "    </tr>\n",
       "    <tr>\n",
       "      <th>4</th>\n",
       "      <td>Aruba</td>\n",
       "      <td>ABW</td>\n",
       "      <td>1964</td>\n",
       "      <td>57619</td>\n",
       "    </tr>\n",
       "  </tbody>\n",
       "</table>\n",
       "</div>"
      ],
      "text/plain": [
       "  Country Name Country Code  years  Population\n",
       "0        Aruba          ABW   1960       54922\n",
       "1        Aruba          ABW   1961       55578\n",
       "2        Aruba          ABW   1962       56320\n",
       "3        Aruba          ABW   1963       57002\n",
       "4        Aruba          ABW   1964       57619"
      ]
     },
     "execution_count": 296,
     "metadata": {},
     "output_type": "execute_result"
    }
   ],
   "source": [
    "df.head()"
   ]
  },
  {
   "cell_type": "code",
   "execution_count": 298,
   "id": "4573c6ae-d660-4d7b-b784-9d079e705228",
   "metadata": {},
   "outputs": [
    {
     "data": {
      "text/html": [
       "<div>\n",
       "<style scoped>\n",
       "    .dataframe tbody tr th:only-of-type {\n",
       "        vertical-align: middle;\n",
       "    }\n",
       "\n",
       "    .dataframe tbody tr th {\n",
       "        vertical-align: top;\n",
       "    }\n",
       "\n",
       "    .dataframe thead th {\n",
       "        text-align: right;\n",
       "    }\n",
       "</style>\n",
       "<table border=\"1\" class=\"dataframe\">\n",
       "  <thead>\n",
       "    <tr style=\"text-align: right;\">\n",
       "      <th></th>\n",
       "      <th>Country Name</th>\n",
       "      <th>Country Code</th>\n",
       "      <th>years</th>\n",
       "      <th>Population</th>\n",
       "    </tr>\n",
       "  </thead>\n",
       "  <tbody>\n",
       "    <tr>\n",
       "      <th>17019</th>\n",
       "      <td>Zimbabwe</td>\n",
       "      <td>ZWE</td>\n",
       "      <td>2019</td>\n",
       "      <td>15271368</td>\n",
       "    </tr>\n",
       "    <tr>\n",
       "      <th>17020</th>\n",
       "      <td>Zimbabwe</td>\n",
       "      <td>ZWE</td>\n",
       "      <td>2020</td>\n",
       "      <td>15526888</td>\n",
       "    </tr>\n",
       "    <tr>\n",
       "      <th>17021</th>\n",
       "      <td>Zimbabwe</td>\n",
       "      <td>ZWE</td>\n",
       "      <td>2021</td>\n",
       "      <td>15797210</td>\n",
       "    </tr>\n",
       "    <tr>\n",
       "      <th>17022</th>\n",
       "      <td>Zimbabwe</td>\n",
       "      <td>ZWE</td>\n",
       "      <td>2022</td>\n",
       "      <td>16069056</td>\n",
       "    </tr>\n",
       "    <tr>\n",
       "      <th>17023</th>\n",
       "      <td>Zimbabwe</td>\n",
       "      <td>ZWE</td>\n",
       "      <td>2023</td>\n",
       "      <td>16340822</td>\n",
       "    </tr>\n",
       "  </tbody>\n",
       "</table>\n",
       "</div>"
      ],
      "text/plain": [
       "      Country Name Country Code  years  Population\n",
       "17019     Zimbabwe          ZWE   2019    15271368\n",
       "17020     Zimbabwe          ZWE   2020    15526888\n",
       "17021     Zimbabwe          ZWE   2021    15797210\n",
       "17022     Zimbabwe          ZWE   2022    16069056\n",
       "17023     Zimbabwe          ZWE   2023    16340822"
      ]
     },
     "execution_count": 298,
     "metadata": {},
     "output_type": "execute_result"
    }
   ],
   "source": [
    "df.tail()"
   ]
  },
  {
   "cell_type": "markdown",
   "id": "ea59cbf4-c878-4d16-8110-fc3c2cd29c00",
   "metadata": {},
   "source": [
    "# Preprocessing Data"
   ]
  },
  {
   "cell_type": "markdown",
   "id": "d1d0d8ea-ca33-4df0-a2c7-4f152044c096",
   "metadata": {},
   "source": [
    "# Finding missing values"
   ]
  },
  {
   "cell_type": "code",
   "execution_count": 332,
   "id": "4fb4b0cf-206c-4f7b-9454-9a2453dd7dbe",
   "metadata": {},
   "outputs": [
    {
     "data": {
      "text/plain": [
       "Country Name    0\n",
       "Country Code    0\n",
       "years           0\n",
       "Population      0\n",
       "dtype: int64"
      ]
     },
     "execution_count": 332,
     "metadata": {},
     "output_type": "execute_result"
    }
   ],
   "source": [
    "df.isnull().sum()"
   ]
  },
  {
   "cell_type": "markdown",
   "id": "e05f649b-142a-448e-bdf5-9a595b4c5d81",
   "metadata": {},
   "source": [
    "# Finding Duplicates"
   ]
  },
  {
   "cell_type": "code",
   "execution_count": 335,
   "id": "b9d14a8f-e8d6-46f9-ba00-0fa73f9925c5",
   "metadata": {},
   "outputs": [
    {
     "data": {
      "text/plain": [
       "0"
      ]
     },
     "execution_count": 335,
     "metadata": {},
     "output_type": "execute_result"
    }
   ],
   "source": [
    "df.duplicated().sum()"
   ]
  },
  {
   "cell_type": "markdown",
   "id": "120c0e98-ed53-4633-8b17-7b0dfe3d1195",
   "metadata": {},
   "source": [
    "# Finding garbage values"
   ]
  },
  {
   "cell_type": "code",
   "execution_count": 338,
   "id": "808c96a2-8be1-4469-81e4-1f423a2a4f66",
   "metadata": {},
   "outputs": [
    {
     "name": "stdout",
     "output_type": "stream",
     "text": [
      "Country Name\n",
      "Aruba                   64\n",
      "Oman                    64\n",
      "Malawi                  64\n",
      "Malaysia                64\n",
      "North America           64\n",
      "                        ..\n",
      "Guyana                  64\n",
      "High income             64\n",
      "Hong Kong SAR, China    64\n",
      "Honduras                64\n",
      "Zimbabwe                64\n",
      "Name: count, Length: 266, dtype: int64\n",
      "************************************************************\n",
      "Country Code\n",
      "ABW    64\n",
      "OMN    64\n",
      "MWI    64\n",
      "MYS    64\n",
      "NAC    64\n",
      "       ..\n",
      "GUY    64\n",
      "HIC    64\n",
      "HKG    64\n",
      "HND    64\n",
      "ZWE    64\n",
      "Name: count, Length: 266, dtype: int64\n",
      "************************************************************\n"
     ]
    }
   ],
   "source": [
    "for i in df.select_dtypes(include = \"object\").columns:\n",
    "    print(df[i].value_counts())\n",
    "    print(\"***\"*20)"
   ]
  },
  {
   "cell_type": "markdown",
   "id": "852db3db-78be-487c-84b7-9387010dcf13",
   "metadata": {},
   "source": [
    "# Exploratory Data Analysis [EDA]"
   ]
  },
  {
   "cell_type": "code",
   "execution_count": 21,
   "id": "b5143e6d-609a-4c2d-b81a-762f11827cae",
   "metadata": {},
   "outputs": [
    {
     "data": {
      "text/html": [
       "<div>\n",
       "<style scoped>\n",
       "    .dataframe tbody tr th:only-of-type {\n",
       "        vertical-align: middle;\n",
       "    }\n",
       "\n",
       "    .dataframe tbody tr th {\n",
       "        vertical-align: top;\n",
       "    }\n",
       "\n",
       "    .dataframe thead th {\n",
       "        text-align: right;\n",
       "    }\n",
       "</style>\n",
       "<table border=\"1\" class=\"dataframe\">\n",
       "  <thead>\n",
       "    <tr style=\"text-align: right;\">\n",
       "      <th></th>\n",
       "      <th>count</th>\n",
       "      <th>mean</th>\n",
       "      <th>std</th>\n",
       "      <th>min</th>\n",
       "      <th>25%</th>\n",
       "      <th>50%</th>\n",
       "      <th>75%</th>\n",
       "      <th>max</th>\n",
       "    </tr>\n",
       "  </thead>\n",
       "  <tbody>\n",
       "    <tr>\n",
       "      <th>years</th>\n",
       "      <td>17024.0</td>\n",
       "      <td>1.991500e+03</td>\n",
       "      <td>1.847350e+01</td>\n",
       "      <td>1960.0</td>\n",
       "      <td>1975.75</td>\n",
       "      <td>1991.5</td>\n",
       "      <td>2007.25</td>\n",
       "      <td>2.023000e+03</td>\n",
       "    </tr>\n",
       "    <tr>\n",
       "      <th>Population</th>\n",
       "      <td>17024.0</td>\n",
       "      <td>2.154097e+08</td>\n",
       "      <td>7.097223e+08</td>\n",
       "      <td>0.0</td>\n",
       "      <td>929956.75</td>\n",
       "      <td>6630636.0</td>\n",
       "      <td>46226073.25</td>\n",
       "      <td>8.061876e+09</td>\n",
       "    </tr>\n",
       "  </tbody>\n",
       "</table>\n",
       "</div>"
      ],
      "text/plain": [
       "              count          mean           std     min        25%        50%  \\\n",
       "years       17024.0  1.991500e+03  1.847350e+01  1960.0    1975.75     1991.5   \n",
       "Population  17024.0  2.154097e+08  7.097223e+08     0.0  929956.75  6630636.0   \n",
       "\n",
       "                    75%           max  \n",
       "years           2007.25  2.023000e+03  \n",
       "Population  46226073.25  8.061876e+09  "
      ]
     },
     "execution_count": 21,
     "metadata": {},
     "output_type": "execute_result"
    }
   ],
   "source": [
    "# Descriptive Statistics\n",
    "df.describe().T"
   ]
  },
  {
   "cell_type": "code",
   "execution_count": 23,
   "id": "3949e3b6-5b53-48ce-82ae-006efc705ea3",
   "metadata": {},
   "outputs": [
    {
     "data": {
      "text/html": [
       "<div>\n",
       "<style scoped>\n",
       "    .dataframe tbody tr th:only-of-type {\n",
       "        vertical-align: middle;\n",
       "    }\n",
       "\n",
       "    .dataframe tbody tr th {\n",
       "        vertical-align: top;\n",
       "    }\n",
       "\n",
       "    .dataframe thead th {\n",
       "        text-align: right;\n",
       "    }\n",
       "</style>\n",
       "<table border=\"1\" class=\"dataframe\">\n",
       "  <thead>\n",
       "    <tr style=\"text-align: right;\">\n",
       "      <th></th>\n",
       "      <th>Country Name</th>\n",
       "      <th>Country Code</th>\n",
       "    </tr>\n",
       "  </thead>\n",
       "  <tbody>\n",
       "    <tr>\n",
       "      <th>count</th>\n",
       "      <td>17024</td>\n",
       "      <td>17024</td>\n",
       "    </tr>\n",
       "    <tr>\n",
       "      <th>unique</th>\n",
       "      <td>266</td>\n",
       "      <td>266</td>\n",
       "    </tr>\n",
       "    <tr>\n",
       "      <th>top</th>\n",
       "      <td>Aruba</td>\n",
       "      <td>ABW</td>\n",
       "    </tr>\n",
       "    <tr>\n",
       "      <th>freq</th>\n",
       "      <td>64</td>\n",
       "      <td>64</td>\n",
       "    </tr>\n",
       "  </tbody>\n",
       "</table>\n",
       "</div>"
      ],
      "text/plain": [
       "       Country Name Country Code\n",
       "count         17024        17024\n",
       "unique          266          266\n",
       "top           Aruba          ABW\n",
       "freq             64           64"
      ]
     },
     "execution_count": 23,
     "metadata": {},
     "output_type": "execute_result"
    }
   ],
   "source": [
    "df.describe(include=\"object\")"
   ]
  },
  {
   "cell_type": "markdown",
   "id": "be14be7a-79b3-4988-967e-f183c09f9d57",
   "metadata": {},
   "source": [
    "# Spliting Dataset"
   ]
  },
  {
   "cell_type": "code",
   "execution_count": 25,
   "id": "f6fb599f-4f26-474a-866d-632de94d84e5",
   "metadata": {},
   "outputs": [],
   "source": [
    "from sklearn.model_selection import train_test_split"
   ]
  },
  {
   "cell_type": "code",
   "execution_count": 73,
   "id": "e12b8a9d-594a-43fc-9f22-709fff03c5c1",
   "metadata": {},
   "outputs": [],
   "source": [
    "X = df[['Country Name', 'years']] \n",
    "y = df['Population']"
   ]
  },
  {
   "cell_type": "code",
   "execution_count": 75,
   "id": "94c6833f-7aeb-4181-8dc5-a103a8d961a5",
   "metadata": {},
   "outputs": [],
   "source": [
    "# Split into training and testing sets\n",
    "X_train, X_test, y_train, y_test = train_test_split(X, y, test_size=0.2, random_state=42)"
   ]
  },
  {
   "cell_type": "code",
   "execution_count": 81,
   "id": "7f5cb209-abdc-47e5-9437-d0874dedc2d6",
   "metadata": {},
   "outputs": [
    {
     "name": "stdout",
     "output_type": "stream",
     "text": [
      "(13619, 2)\n",
      "(3405, 2)\n",
      "(13619,)\n",
      "(3405,)\n"
     ]
    }
   ],
   "source": [
    "print(X_train.shape)\n",
    "print(X_test.shape)\n",
    "print(y_train.shape)\n",
    "print(y_test.shape)"
   ]
  },
  {
   "cell_type": "markdown",
   "id": "0a4c497f-bce7-4a8a-bdf9-a7bd1c60c7af",
   "metadata": {},
   "source": [
    "# CREATING VISUALIZATION"
   ]
  },
  {
   "cell_type": "code",
   "execution_count": 346,
   "id": "381178e7-bf96-465a-89e7-1a04558e3ebe",
   "metadata": {},
   "outputs": [],
   "source": [
    "import matplotlib.pyplot as plt\n",
    "import numpy as np\n",
    "import seaborn as sns"
   ]
  },
  {
   "cell_type": "code",
   "execution_count": 348,
   "id": "3f5fcc69-dc4d-4ca0-9498-a1cfb99b157e",
   "metadata": {},
   "outputs": [
    {
     "data": {
      "image/png": "[encoded data removed]",
      "text/plain": [
       "<Figure size 1000x600 with 1 Axes>"
      ]
     },
     "metadata": {},
     "output_type": "display_data"
    }
   ],
   "source": [
    "# histogram \n",
    "plt.figure(figsize=(10, 6))\n",
    "plt.hist(df[df['years'] == 2022]['Population'], bins=20)\n",
    "plt.title('Population Across Countries (2022)')\n",
    "plt.xlabel('Population')\n",
    "plt.ylabel('Number of Countries')\n",
    "plt.tight_layout()\n",
    "plt.show()"
   ]
  },
  {
   "cell_type": "code",
   "execution_count": 350,
   "id": "954dbaed-25f8-40c0-bcdc-20d78014f227",
   "metadata": {},
   "outputs": [
    {
     "data": {
      "image/png": "[encoded data removed]",
      "text/plain": [
       "<Figure size 640x480 with 1 Axes>"
      ]
     },
     "metadata": {},
     "output_type": "display_data"
    }
   ],
   "source": [
    "# Bar Chart\n",
    "top_countries = df[df['years'] == 2022].sort_values('Population', ascending=False).head(10)\n",
    "sns.barplot(x='Population', y='Country Name', data=top_countries)\n",
    "plt.title(\"Top 10 Most Population Countries (2022)\")\n",
    "plt.xlabel(\"Population\")\n",
    "plt.ylabel(\"Country\")\n",
    "plt.show()"
   ]
  },
  {
   "cell_type": "code",
   "execution_count": 352,
   "id": "c17ac819-782c-47ae-b65a-d76912da3d9c",
   "metadata": {},
   "outputs": [
    {
     "data": {
      "image/png": "[encoded data removed]",
      "text/plain": [
       "<Figure size 1200x600 with 1 Axes>"
      ]
     },
     "metadata": {},
     "output_type": "display_data"
    }
   ],
   "source": [
    "# Line Chart (for specific countries )\n",
    "selected_countries = ['India', 'China', 'United States']\n",
    "plt.figure(figsize=(12, 6))\n",
    "\n",
    "for country in selected_countries:\n",
    "    data = df[df['Country Name'] == country]\n",
    "    plt.plot(data['years'], data['Population'], label=country)\n",
    "\n",
    "plt.title('Population Growth Over Time (1960–2022)')\n",
    "plt.xlabel('Year')\n",
    "plt.ylabel('Population')\n",
    "plt.legend()\n",
    "plt.grid(True)\n",
    "plt.tight_layout()\n",
    "plt.show()\n"
   ]
  },
  {
   "cell_type": "code",
   "execution_count": 354,
   "id": "201b65a8-4c2c-4e0b-9eab-b571047b078d",
   "metadata": {},
   "outputs": [
    {
     "data": {
      "application/vnd.plotly.v1+json": {
       "config": {
        "plotlyServerURL": "https://plot.ly"
       },
       "data": [
        {
         "coloraxis": "coloraxis",
         "geo": "geo",
         "hovertemplate": "<b>%{hovertext}</b><br><br>Country Name=%{location}<br>Population=%{z}<extra></extra>",
         "hovertext": [
          "Aruba",
          "Africa Eastern and Southern",
          "Afghanistan",
          "Africa Western and Central",
          "Angola",
          "Albania",
          "Andorra",
          "Arab World",
          "United Arab Emirates",
          "Argentina",
          "Armenia",
          "American Samoa",
          "Antigua and Barbuda",
          "Australia",
          "Austria",
          "Azerbaijan",
          "Burundi",
          "Belgium",
          "Benin",
          "Burkina Faso",
          "Bangladesh",
          "Bulgaria",
          "Bahrain",
          "Bahamas, The",
          "Bosnia and Herzegovina",
          "Belarus",
          "Belize",
          "Bermuda",
          "Bolivia",
          "Brazil",
          "Barbados",
          "Brunei Darussalam",
          "Bhutan",
          "Botswana",
          "Central African Republic",
          "Canada",
          "Central Europe and the Baltics",
          "Switzerland",
          "Channel Islands",
          "Chile",
          "China",
          "Cote d'Ivoire",
          "Cameroon",
          "Congo, Dem. Rep.",
          "Congo, Rep.",
          "Colombia",
          "Comoros",
          "Cabo Verde",
          "Costa Rica",
          "Caribbean small states",
          "Cuba",
          "Curacao",
          "Cayman Islands",
          "Cyprus",
          "Czechia",
          "Germany",
          "Djibouti",
          "Dominica",
          "Denmark",
          "Dominican Republic",
          "Algeria",
          "East Asia & Pacific (excluding high income)",
          "Early-demographic dividend",
          "East Asia & Pacific",
          "Europe & Central Asia (excluding high income)",
          "Europe & Central Asia",
          "Ecuador",
          "Egypt, Arab Rep.",
          "Euro area",
          "Eritrea",
          "Spain",
          "Estonia",
          "Ethiopia",
          "European Union",
          "Fragile and conflict affected situations",
          "Finland",
          "Fiji",
          "France",
          "Faroe Islands",
          "Micronesia, Fed. Sts.",
          "Gabon",
          "United Kingdom",
          "Georgia",
          "Ghana",
          "Gibraltar",
          "Guinea",
          "Gambia, The",
          "Guinea-Bissau",
          "Equatorial Guinea",
          "Greece",
          "Grenada",
          "Greenland",
          "Guatemala",
          "Guam",
          "Guyana",
          "High income",
          "Hong Kong SAR, China",
          "Honduras",
          "Heavily indebted poor countries (HIPC)",
          "Croatia",
          "Haiti",
          "Hungary",
          "IBRD only",
          "IDA & IBRD total",
          "IDA total",
          "IDA blend",
          "Indonesia",
          "IDA only",
          "Isle of Man",
          "India",
          "Not classified",
          "Ireland",
          "Iran, Islamic Rep.",
          "Iraq",
          "Iceland",
          "Israel",
          "Italy",
          "Jamaica",
          "Jordan",
          "Japan",
          "Kazakhstan",
          "Kenya",
          "Kyrgyz Republic",
          "Cambodia",
          "Kiribati",
          "St. Kitts and Nevis",
          "Korea, Rep.",
          "Kuwait",
          "Latin America & Caribbean (excluding high income)",
          "Lao PDR",
          "Lebanon",
          "Liberia",
          "Libya",
          "St. Lucia",
          "Latin America & Caribbean",
          "Least developed countries: UN classification",
          "Low income",
          "Liechtenstein",
          "Sri Lanka",
          "Lower middle income",
          "Low & middle income",
          "Lesotho",
          "Late-demographic dividend",
          "Lithuania",
          "Luxembourg",
          "Latvia",
          "Macao SAR, China",
          "St. Martin (French part)",
          "Morocco",
          "Monaco",
          "Moldova",
          "Madagascar",
          "Maldives",
          "Middle East & North Africa",
          "Mexico",
          "Marshall Islands",
          "Middle income",
          "North Macedonia",
          "Mali",
          "Malta",
          "Myanmar",
          "Middle East & North Africa (excluding high income)",
          "Montenegro",
          "Mongolia",
          "Northern Mariana Islands",
          "Mozambique",
          "Mauritania",
          "Mauritius",
          "Malawi",
          "Malaysia",
          "North America",
          "Namibia",
          "New Caledonia",
          "Niger",
          "Nigeria",
          "Nicaragua",
          "Netherlands",
          "Norway",
          "Nepal",
          "Nauru",
          "New Zealand",
          "OECD members",
          "Oman",
          "Other small states",
          "Pakistan",
          "Panama",
          "Peru",
          "Philippines",
          "Palau",
          "Papua New Guinea",
          "Poland",
          "Pre-demographic dividend",
          "Puerto Rico",
          "Korea, Dem. People's Rep.",
          "Portugal",
          "Paraguay",
          "West Bank and Gaza",
          "Pacific island small states",
          "Post-demographic dividend",
          "French Polynesia",
          "Qatar",
          "Romania",
          "Russian Federation",
          "Rwanda",
          "South Asia",
          "Saudi Arabia",
          "Sudan",
          "Senegal",
          "Singapore",
          "Solomon Islands",
          "Sierra Leone",
          "El Salvador",
          "San Marino",
          "Somalia",
          "Serbia",
          "Sub-Saharan Africa (excluding high income)",
          "South Sudan",
          "Sub-Saharan Africa",
          "Small states",
          "Sao Tome and Principe",
          "Suriname",
          "Slovak Republic",
          "Slovenia",
          "Sweden",
          "Eswatini",
          "Sint Maarten (Dutch part)",
          "Seychelles",
          "Syrian Arab Republic",
          "Turks and Caicos Islands",
          "Chad",
          "East Asia & Pacific (IDA & IBRD countries)",
          "Europe & Central Asia (IDA & IBRD countries)",
          "Togo",
          "Thailand",
          "Tajikistan",
          "Turkmenistan",
          "Latin America & the Caribbean (IDA & IBRD countries)",
          "Timor-Leste",
          "Middle East & North Africa (IDA & IBRD countries)",
          "Tonga",
          "South Asia (IDA & IBRD)",
          "Sub-Saharan Africa (IDA & IBRD countries)",
          "Trinidad and Tobago",
          "Tunisia",
          "Turkiye",
          "Tuvalu",
          "Tanzania",
          "Uganda",
          "Ukraine",
          "Upper middle income",
          "Uruguay",
          "United States",
          "Uzbekistan",
          "St. Vincent and the Grenadines",
          "Venezuela, RB",
          "British Virgin Islands",
          "Virgin Islands (U.S.)",
          "Viet Nam",
          "Vanuatu",
          "World",
          "Samoa",
          "Kosovo",
          "Yemen, Rep.",
          "South Africa",
          "Zambia",
          "Zimbabwe"
         ],
         "locationmode": "country names",
         "locations": [
          "Aruba",
          "Africa Eastern and Southern",
          "Afghanistan",
          "Africa Western and Central",
          "Angola",
          "Albania",
          "Andorra",
          "Arab World",
          "United Arab Emirates",
          "Argentina",
          "Armenia",
          "American Samoa",
          "Antigua and Barbuda",
          "Australia",
          "Austria",
          "Azerbaijan",
          "Burundi",
          "Belgium",
          "Benin",
          "Burkina Faso",
          "Bangladesh",
          "Bulgaria",
          "Bahrain",
          "Bahamas, The",
          "Bosnia and Herzegovina",
          "Belarus",
          "Belize",
          "Bermuda",
          "Bolivia",
          "Brazil",
          "Barbados",
          "Brunei Darussalam",
          "Bhutan",
          "Botswana",
          "Central African Republic",
          "Canada",
          "Central Europe and the Baltics",
          "Switzerland",
          "Channel Islands",
          "Chile",
          "China",
          "Cote d'Ivoire",
          "Cameroon",
          "Congo, Dem. Rep.",
          "Congo, Rep.",
          "Colombia",
          "Comoros",
          "Cabo Verde",
          "Costa Rica",
          "Caribbean small states",
          "Cuba",
          "Curacao",
          "Cayman Islands",
          "Cyprus",
          "Czechia",
          "Germany",
          "Djibouti",
          "Dominica",
          "Denmark",
          "Dominican Republic",
          "Algeria",
          "East Asia & Pacific (excluding high income)",
          "Early-demographic dividend",
          "East Asia & Pacific",
          "Europe & Central Asia (excluding high income)",
          "Europe & Central Asia",
          "Ecuador",
          "Egypt, Arab Rep.",
          "Euro area",
          "Eritrea",
          "Spain",
          "Estonia",
          "Ethiopia",
          "European Union",
          "Fragile and conflict affected situations",
          "Finland",
          "Fiji",
          "France",
          "Faroe Islands",
          "Micronesia, Fed. Sts.",
          "Gabon",
          "United Kingdom",
          "Georgia",
          "Ghana",
          "Gibraltar",
          "Guinea",
          "Gambia, The",
          "Guinea-Bissau",
          "Equatorial Guinea",
          "Greece",
          "Grenada",
          "Greenland",
          "Guatemala",
          "Guam",
          "Guyana",
          "High income",
          "Hong Kong SAR, China",
          "Honduras",
          "Heavily indebted poor countries (HIPC)",
          "Croatia",
          "Haiti",
          "Hungary",
          "IBRD only",
          "IDA & IBRD total",
          "IDA total",
          "IDA blend",
          "Indonesia",
          "IDA only",
          "Isle of Man",
          "India",
          "Not classified",
          "Ireland",
          "Iran, Islamic Rep.",
          "Iraq",
          "Iceland",
          "Israel",
          "Italy",
          "Jamaica",
          "Jordan",
          "Japan",
          "Kazakhstan",
          "Kenya",
          "Kyrgyz Republic",
          "Cambodia",
          "Kiribati",
          "St. Kitts and Nevis",
          "Korea, Rep.",
          "Kuwait",
          "Latin America & Caribbean (excluding high income)",
          "Lao PDR",
          "Lebanon",
          "Liberia",
          "Libya",
          "St. Lucia",
          "Latin America & Caribbean",
          "Least developed countries: UN classification",
          "Low income",
          "Liechtenstein",
          "Sri Lanka",
          "Lower middle income",
          "Low & middle income",
          "Lesotho",
          "Late-demographic dividend",
          "Lithuania",
          "Luxembourg",
          "Latvia",
          "Macao SAR, China",
          "St. Martin (French part)",
          "Morocco",
          "Monaco",
          "Moldova",
          "Madagascar",
          "Maldives",
          "Middle East & North Africa",
          "Mexico",
          "Marshall Islands",
          "Middle income",
          "North Macedonia",
          "Mali",
          "Malta",
          "Myanmar",
          "Middle East & North Africa (excluding high income)",
          "Montenegro",
          "Mongolia",
          "Northern Mariana Islands",
          "Mozambique",
          "Mauritania",
          "Mauritius",
          "Malawi",
          "Malaysia",
          "North America",
          "Namibia",
          "New Caledonia",
          "Niger",
          "Nigeria",
          "Nicaragua",
          "Netherlands",
          "Norway",
          "Nepal",
          "Nauru",
          "New Zealand",
          "OECD members",
          "Oman",
          "Other small states",
          "Pakistan",
          "Panama",
          "Peru",
          "Philippines",
          "Palau",
          "Papua New Guinea",
          "Poland",
          "Pre-demographic dividend",
          "Puerto Rico",
          "Korea, Dem. People's Rep.",
          "Portugal",
          "Paraguay",
          "West Bank and Gaza",
          "Pacific island small states",
          "Post-demographic dividend",
          "French Polynesia",
          "Qatar",
          "Romania",
          "Russian Federation",
          "Rwanda",
          "South Asia",
          "Saudi Arabia",
          "Sudan",
          "Senegal",
          "Singapore",
          "Solomon Islands",
          "Sierra Leone",
          "El Salvador",
          "San Marino",
          "Somalia",
          "Serbia",
          "Sub-Saharan Africa (excluding high income)",
          "South Sudan",
          "Sub-Saharan Africa",
          "Small states",
          "Sao Tome and Principe",
          "Suriname",
          "Slovak Republic",
          "Slovenia",
          "Sweden",
          "Eswatini",
          "Sint Maarten (Dutch part)",
          "Seychelles",
          "Syrian Arab Republic",
          "Turks and Caicos Islands",
          "Chad",
          "East Asia & Pacific (IDA & IBRD countries)",
          "Europe & Central Asia (IDA & IBRD countries)",
          "Togo",
          "Thailand",
          "Tajikistan",
          "Turkmenistan",
          "Latin America & the Caribbean (IDA & IBRD countries)",
          "Timor-Leste",
          "Middle East & North Africa (IDA & IBRD countries)",
          "Tonga",
          "South Asia (IDA & IBRD)",
          "Sub-Saharan Africa (IDA & IBRD countries)",
          "Trinidad and Tobago",
          "Tunisia",
          "Turkiye",
          "Tuvalu",
          "Tanzania",
          "Uganda",
          "Ukraine",
          "Upper middle income",
          "Uruguay",
          "United States",
          "Uzbekistan",
          "St. Vincent and the Grenadines",
          "Venezuela, RB",
          "British Virgin Islands",
          "Virgin Islands (U.S.)",
          "Viet Nam",
          "Vanuatu",
          "World",
          "Samoa",
          "Kosovo",
          "Yemen, Rep.",
          "South Africa",
          "Zambia",
          "Zimbabwe"
         ],
         "name": "",
         "type": "choropleth",
         "z": [
          107310,
          731821393,
          40578842,
          497387180,
          35635029,
          2777689,
          79705,
          471352066,
          10074977,
          45407904,
          2969200,
          48342,
          92840,
          26014399,
          9041851,
          10141756,
          13321097,
          11680210,
          13759501,
          22509038,
          169384897,
          6643324,
          1524693,
          397538,
          3204802,
          9228071,
          402733,
          64749,
          12077154,
          210306415,
          282318,
          455370,
          780914,
          2439892,
          5098039,
          38939056,
          100289401,
          8777088,
          167215,
          19553036,
          1412175000,
          30395002,
          27632771,
          102396968,
          6035104,
          51737944,
          834188,
          519741,
          5081765,
          3131505,
          11059820,
          149996,
          71591,
          1331370,
          10672118,
          83797985,
          1137096,
          66826,
          5903037,
          11230734,
          45477389,
          2133560408,
          3470644834,
          2379648296,
          250834022,
          925385334,
          17823897,
          112618250,
          348627172,
          3409447,
          47759127,
          1348840,
          125384287,
          447847220,
          1038158122,
          5556106,
          919422,
          68065015,
          53952,
          112114,
          2430747,
          67791000,
          3712502,
          33149152,
          37609,
          14055137,
          2636470,
          2105529,
          1803545,
          10436882,
          116913,
          56661,
          17847877,
          165180,
          821637,
          1393036569,
          7346100,
          10463872,
          893906294,
          3855641,
          11503606,
          9644377,
          4928694202,
          6795222292,
          1866528090,
          621500917,
          278830529,
          1245027172,
          84132,
          1425423212,
          0,
          5165700,
          89524246,
          44070551,
          382003,
          9557500,
          59013667,
          2839144,
          11256263,
          125124989,
          20034609,
          54252461,
          6975220,
          17201724,
          130469,
          46709,
          51672569,
          4589643,
          590730587,
          7559007,
          5744489,
          5373294,
          7223805,
          178781,
          653104771,
          1134585604,
          716865783,
          39493,
          22181000,
          3041203716,
          6568731934,
          2286110,
          2324072106,
          2831639,
          653103,
          1879383,
          677300,
          28870,
          37329064,
          38931,
          2528654,
          30437261,
          524106,
          498070255,
          128613117,
          40077,
          5851866150,
          1831712,
          23072640,
          531511,
          53756787,
          432229148,
          617213,
          3433748,
          46078,
          32656246,
          4875637,
          1262523,
          20568728,
          34695493,
          372275216,
          2889662,
          287123,
          25311973,
          223150896,
          6730654,
          17700982,
          5457127,
          29715436,
          11801,
          5117200,
          1378506989,
          4730226,
          14217718,
          243700667,
          4400773,
          33475438,
          113964338,
          17759,
          10203169,
          36821749,
          1051201551,
          3220113,
          26328845,
          10434332,
          6760464,
          5043612,
          2656049,
          1117561802,
          280378,
          2657333,
          19048502,
          144236933,
          13651030,
          1932289074,
          32175224,
          49383346,
          17651103,
          5637022,
          781066,
          8276807,
          6280319,
          33755,
          17801897,
          6664449,
          1229088695,
          11021177,
          1229208573,
          20005272,
          226305,
          623164,
          5431752,
          2112076,
          10486941,
          1218917,
          42139,
          119878,
          22462173,
          45847,
          18455316,
          2107261123,
          461440170,
          9089738,
          71735329,
          10182222,
          7230193,
          637837815,
          1369295,
          427185536,
          105042,
          1932289074,
          1229208573,
          1365805,
          12119334,
          84979913,
          9992,
          64711821,
          47312719,
          41048766,
          2810662434,
          3390913,
          333271411,
          34938955,
          102046,
          28213017,
          38319,
          105413,
          99680655,
          313046,
          7989981520,
          215261,
          1768096,
          38222876,
          62378410,
          20152938,
          16069056
         ]
        }
       ],
       "layout": {
        "autosize": true,
        "coloraxis": {
         "colorbar": {
          "title": {
           "text": "Population"
          }
         },
         "colorscale": [
          [
           0,
           "#0d0887"
          ],
          [
           0.1111111111111111,
           "#46039f"
          ],
          [
           0.2222222222222222,
           "#7201a8"
          ],
          [
           0.3333333333333333,
           "#9c179e"
          ],
          [
           0.4444444444444444,
           "#bd3786"
          ],
          [
           0.5555555555555556,
           "#d8576b"
          ],
          [
           0.6666666666666666,
           "#ed7953"
          ],
          [
           0.7777777777777778,
           "#fb9f3a"
          ],
          [
           0.8888888888888888,
           "#fdca26"
          ],
          [
           1,
           "#f0f921"
          ]
         ]
        },
        "geo": {
         "center": {},
         "domain": {
          "x": [
           0,
           1
          ],
          "y": [
           0,
           1
          ]
         }
        },
        "legend": {
         "tracegroupgap": 0
        },
        "template": {
         "data": {
          "bar": [
           {
            "error_x": {
             "color": "#2a3f5f"
            },
            "error_y": {
             "color": "#2a3f5f"
            },
            "marker": {
             "line": {
              "color": "#E5ECF6",
              "width": 0.5
             },
             "pattern": {
              "fillmode": "overlay",
              "size": 10,
              "solidity": 0.2
             }
            },
            "type": "bar"
           }
          ],
          "barpolar": [
           {
            "marker": {
             "line": {
              "color": "#E5ECF6",
              "width": 0.5
             },
             "pattern": {
              "fillmode": "overlay",
              "size": 10,
              "solidity": 0.2
             }
            },
            "type": "barpolar"
           }
          ],
          "carpet": [
           {
            "aaxis": {
             "endlinecolor": "#2a3f5f",
             "gridcolor": "white",
             "linecolor": "white",
             "minorgridcolor": "white",
             "startlinecolor": "#2a3f5f"
            },
            "baxis": {
             "endlinecolor": "#2a3f5f",
             "gridcolor": "white",
             "linecolor": "white",
             "minorgridcolor": "white",
             "startlinecolor": "#2a3f5f"
            },
            "type": "carpet"
           }
          ],
          "choropleth": [
           {
            "colorbar": {
             "outlinewidth": 0,
             "ticks": ""
            },
            "type": "choropleth"
           }
          ],
          "contour": [
           {
            "colorbar": {
             "outlinewidth": 0,
             "ticks": ""
            },
            "colorscale": [
             [
              0,
              "#0d0887"
             ],
             [
              0.1111111111111111,
              "#46039f"
             ],
             [
              0.2222222222222222,
              "#7201a8"
             ],
             [
              0.3333333333333333,
              "#9c179e"
             ],
             [
              0.4444444444444444,
              "#bd3786"
             ],
             [
              0.5555555555555556,
              "#d8576b"
             ],
             [
              0.6666666666666666,
              "#ed7953"
             ],
             [
              0.7777777777777778,
              "#fb9f3a"
             ],
             [
              0.8888888888888888,
              "#fdca26"
             ],
             [
              1,
              "#f0f921"
             ]
            ],
            "type": "contour"
           }
          ],
          "contourcarpet": [
           {
            "colorbar": {
             "outlinewidth": 0,
             "ticks": ""
            },
            "type": "contourcarpet"
           }
          ],
          "heatmap": [
           {
            "colorbar": {
             "outlinewidth": 0,
             "ticks": ""
            },
            "colorscale": [
             [
              0,
              "#0d0887"
             ],
             [
              0.1111111111111111,
              "#46039f"
             ],
             [
              0.2222222222222222,
              "#7201a8"
             ],
             [
              0.3333333333333333,
              "#9c179e"
             ],
             [
              0.4444444444444444,
              "#bd3786"
             ],
             [
              0.5555555555555556,
              "#d8576b"
             ],
             [
              0.6666666666666666,
              "#ed7953"
             ],
             [
              0.7777777777777778,
              "#fb9f3a"
             ],
             [
              0.8888888888888888,
              "#fdca26"
             ],
             [
              1,
              "#f0f921"
             ]
            ],
            "type": "heatmap"
           }
          ],
          "heatmapgl": [
           {
            "colorbar": {
             "outlinewidth": 0,
             "ticks": ""
            },
            "colorscale": [
             [
              0,
              "#0d0887"
             ],
             [
              0.1111111111111111,
              "#46039f"
             ],
             [
              0.2222222222222222,
              "#7201a8"
             ],
             [
              0.3333333333333333,
              "#9c179e"
             ],
             [
              0.4444444444444444,
              "#bd3786"
             ],
             [
              0.5555555555555556,
              "#d8576b"
             ],
             [
              0.6666666666666666,
              "#ed7953"
             ],
             [
              0.7777777777777778,
              "#fb9f3a"
             ],
             [
              0.8888888888888888,
              "#fdca26"
             ],
             [
              1,
              "#f0f921"
             ]
            ],
            "type": "heatmapgl"
           }
          ],
          "histogram": [
           {
            "marker": {
             "pattern": {
              "fillmode": "overlay",
              "size": 10,
              "solidity": 0.2
             }
            },
            "type": "histogram"
           }
          ],
          "histogram2d": [
           {
            "colorbar": {
             "outlinewidth": 0,
             "ticks": ""
            },
            "colorscale": [
             [
              0,
              "#0d0887"
             ],
             [
              0.1111111111111111,
              "#46039f"
             ],
             [
              0.2222222222222222,
              "#7201a8"
             ],
             [
              0.3333333333333333,
              "#9c179e"
             ],
             [
              0.4444444444444444,
              "#bd3786"
             ],
             [
              0.5555555555555556,
              "#d8576b"
             ],
             [
              0.6666666666666666,
              "#ed7953"
             ],
             [
              0.7777777777777778,
              "#fb9f3a"
             ],
             [
              0.8888888888888888,
              "#fdca26"
             ],
             [
              1,
              "#f0f921"
             ]
            ],
            "type": "histogram2d"
           }
          ],
          "histogram2dcontour": [
           {
            "colorbar": {
             "outlinewidth": 0,
             "ticks": ""
            },
            "colorscale": [
             [
              0,
              "#0d0887"
             ],
             [
              0.1111111111111111,
              "#46039f"
             ],
             [
              0.2222222222222222,
              "#7201a8"
             ],
             [
              0.3333333333333333,
              "#9c179e"
             ],
             [
              0.4444444444444444,
              "#bd3786"
             ],
             [
              0.5555555555555556,
              "#d8576b"
             ],
             [
              0.6666666666666666,
              "#ed7953"
             ],
             [
              0.7777777777777778,
              "#fb9f3a"
             ],
             [
              0.8888888888888888,
              "#fdca26"
             ],
             [
              1,
              "#f0f921"
             ]
            ],
            "type": "histogram2dcontour"
           }
          ],
          "mesh3d": [
           {
            "colorbar": {
             "outlinewidth": 0,
             "ticks": ""
            },
            "type": "mesh3d"
           }
          ],
          "parcoords": [
           {
            "line": {
             "colorbar": {
              "outlinewidth": 0,
              "ticks": ""
             }
            },
            "type": "parcoords"
           }
          ],
          "pie": [
           {
            "automargin": true,
            "type": "pie"
           }
          ],
          "scatter": [
           {
            "fillpattern": {
             "fillmode": "overlay",
             "size": 10,
             "solidity": 0.2
            },
            "type": "scatter"
           }
          ],
          "scatter3d": [
           {
            "line": {
             "colorbar": {
              "outlinewidth": 0,
              "ticks": ""
             }
            },
            "marker": {
             "colorbar": {
              "outlinewidth": 0,
              "ticks": ""
             }
            },
            "type": "scatter3d"
           }
          ],
          "scattercarpet": [
           {
            "marker": {
             "colorbar": {
              "outlinewidth": 0,
              "ticks": ""
             }
            },
            "type": "scattercarpet"
           }
          ],
          "scattergeo": [
           {
            "marker": {
             "colorbar": {
              "outlinewidth": 0,
              "ticks": ""
             }
            },
            "type": "scattergeo"
           }
          ],
          "scattergl": [
           {
            "marker": {
             "colorbar": {
              "outlinewidth": 0,
              "ticks": ""
             }
            },
            "type": "scattergl"
           }
          ],
          "scattermapbox": [
           {
            "marker": {
             "colorbar": {
              "outlinewidth": 0,
              "ticks": ""
             }
            },
            "type": "scattermapbox"
           }
          ],
          "scatterpolar": [
           {
            "marker": {
             "colorbar": {
              "outlinewidth": 0,
              "ticks": ""
             }
            },
            "type": "scatterpolar"
           }
          ],
          "scatterpolargl": [
           {
            "marker": {
             "colorbar": {
              "outlinewidth": 0,
              "ticks": ""
             }
            },
            "type": "scatterpolargl"
           }
          ],
          "scatterternary": [
           {
            "marker": {
             "colorbar": {
              "outlinewidth": 0,
              "ticks": ""
             }
            },
            "type": "scatterternary"
           }
          ],
          "surface": [
           {
            "colorbar": {
             "outlinewidth": 0,
             "ticks": ""
            },
            "colorscale": [
             [
              0,
              "#0d0887"
             ],
             [
              0.1111111111111111,
              "#46039f"
             ],
             [
              0.2222222222222222,
              "#7201a8"
             ],
             [
              0.3333333333333333,
              "#9c179e"
             ],
             [
              0.4444444444444444,
              "#bd3786"
             ],
             [
              0.5555555555555556,
              "#d8576b"
             ],
             [
              0.6666666666666666,
              "#ed7953"
             ],
             [
              0.7777777777777778,
              "#fb9f3a"
             ],
             [
              0.8888888888888888,
              "#fdca26"
             ],
             [
              1,
              "#f0f921"
             ]
            ],
            "type": "surface"
           }
          ],
          "table": [
           {
            "cells": {
             "fill": {
              "color": "#EBF0F8"
             },
             "line": {
              "color": "white"
             }
            },
            "header": {
             "fill": {
              "color": "#C8D4E3"
             },
             "line": {
              "color": "white"
             }
            },
            "type": "table"
           }
          ]
         },
         "layout": {
          "annotationdefaults": {
           "arrowcolor": "#2a3f5f",
           "arrowhead": 0,
           "arrowwidth": 1
          },
          "autotypenumbers": "strict",
          "coloraxis": {
           "colorbar": {
            "outlinewidth": 0,
            "ticks": ""
           }
          },
          "colorscale": {
           "diverging": [
            [
             0,
             "#8e0152"
            ],
            [
             0.1,
             "#c51b7d"
            ],
            [
             0.2,
             "#de77ae"
            ],
            [
             0.3,
             "#f1b6da"
            ],
            [
             0.4,
             "#fde0ef"
            ],
            [
             0.5,
             "#f7f7f7"
            ],
            [
             0.6,
             "#e6f5d0"
            ],
            [
             0.7,
             "#b8e186"
            ],
            [
             0.8,
             "#7fbc41"
            ],
            [
             0.9,
             "#4d9221"
            ],
            [
             1,
             "#276419"
            ]
           ],
           "sequential": [
            [
             0,
             "#0d0887"
            ],
            [
             0.1111111111111111,
             "#46039f"
            ],
            [
             0.2222222222222222,
             "#7201a8"
            ],
            [
             0.3333333333333333,
             "#9c179e"
            ],
            [
             0.4444444444444444,
             "#bd3786"
            ],
            [
             0.5555555555555556,
             "#d8576b"
            ],
            [
             0.6666666666666666,
             "#ed7953"
            ],
            [
             0.7777777777777778,
             "#fb9f3a"
            ],
            [
             0.8888888888888888,
             "#fdca26"
            ],
            [
             1,
             "#f0f921"
            ]
           ],
           "sequentialminus": [
            [
             0,
             "#0d0887"
            ],
            [
             0.1111111111111111,
             "#46039f"
            ],
            [
             0.2222222222222222,
             "#7201a8"
            ],
            [
             0.3333333333333333,
             "#9c179e"
            ],
            [
             0.4444444444444444,
             "#bd3786"
            ],
            [
             0.5555555555555556,
             "#d8576b"
            ],
            [
             0.6666666666666666,
             "#ed7953"
            ],
            [
             0.7777777777777778,
             "#fb9f3a"
            ],
            [
             0.8888888888888888,
             "#fdca26"
            ],
            [
             1,
             "#f0f921"
            ]
           ]
          },
          "colorway": [
           "#636efa",
           "#EF553B",
           "#00cc96",
           "#ab63fa",
           "#FFA15A",
           "#19d3f3",
           "#FF6692",
           "#B6E880",
           "#FF97FF",
           "#FECB52"
          ],
          "font": {
           "color": "#2a3f5f"
          },
          "geo": {
           "bgcolor": "white",
           "lakecolor": "white",
           "landcolor": "#E5ECF6",
           "showlakes": true,
           "showland": true,
           "subunitcolor": "white"
          },
          "hoverlabel": {
           "align": "left"
          },
          "hovermode": "closest",
          "mapbox": {
           "style": "light"
          },
          "paper_bgcolor": "white",
          "plot_bgcolor": "#E5ECF6",
          "polar": {
           "angularaxis": {
            "gridcolor": "white",
            "linecolor": "white",
            "ticks": ""
           },
           "bgcolor": "#E5ECF6",
           "radialaxis": {
            "gridcolor": "white",
            "linecolor": "white",
            "ticks": ""
           }
          },
          "scene": {
           "xaxis": {
            "backgroundcolor": "#E5ECF6",
            "gridcolor": "white",
            "gridwidth": 2,
            "linecolor": "white",
            "showbackground": true,
            "ticks": "",
            "zerolinecolor": "white"
           },
           "yaxis": {
            "backgroundcolor": "#E5ECF6",
            "gridcolor": "white",
            "gridwidth": 2,
            "linecolor": "white",
            "showbackground": true,
            "ticks": "",
            "zerolinecolor": "white"
           },
           "zaxis": {
            "backgroundcolor": "#E5ECF6",
            "gridcolor": "white",
            "gridwidth": 2,
            "linecolor": "white",
            "showbackground": true,
            "ticks": "",
            "zerolinecolor": "white"
           }
          },
          "shapedefaults": {
           "line": {
            "color": "#2a3f5f"
           }
          },
          "ternary": {
           "aaxis": {
            "gridcolor": "white",
            "linecolor": "white",
            "ticks": ""
           },
           "baxis": {
            "gridcolor": "white",
            "linecolor": "white",
            "ticks": ""
           },
           "bgcolor": "#E5ECF6",
           "caxis": {
            "gridcolor": "white",
            "linecolor": "white",
            "ticks": ""
           }
          },
          "title": {
           "x": 0.05
          },
          "xaxis": {
           "automargin": true,
           "gridcolor": "white",
           "linecolor": "white",
           "ticks": "",
           "title": {
            "standoff": 15
           },
           "zerolinecolor": "white",
           "zerolinewidth": 2
          },
          "yaxis": {
           "automargin": true,
           "gridcolor": "white",
           "linecolor": "white",
           "ticks": "",
           "title": {
            "standoff": 15
           },
           "zerolinecolor": "white",
           "zerolinewidth": 2
          }
         }
        },
        "title": {
         "text": "Population by Country (2022)"
        }
       }
      },
      "image/png": "[encoded data removed]",
      "text/html": [
       "<div>                            <div id=\"2ffd04ef-4bb4-4516-a8cf-563582adf63b\" class=\"plotly-graph-div\" style=\"height:525px; width:100%;\"></div>            <script type=\"text/javascript\">                require([\"plotly\"], function(Plotly) {                    window.PLOTLYENV=window.PLOTLYENV || {};                                    if (document.getElementById(\"2ffd04ef-4bb4-4516-a8cf-563582adf63b\")) {                    Plotly.newPlot(                        \"2ffd04ef-4bb4-4516-a8cf-563582adf63b\",                        [{\"coloraxis\":\"coloraxis\",\"geo\":\"geo\",\"hovertemplate\":\"\\u003cb\\u003e%{hovertext}\\u003c\\u002fb\\u003e\\u003cbr\\u003e\\u003cbr\\u003eCountry Name=%{location}\\u003cbr\\u003ePopulation=%{z}\\u003cextra\\u003e\\u003c\\u002fextra\\u003e\",\"hovertext\":[\"Aruba\",\"Africa Eastern and Southern\",\"Afghanistan\",\"Africa Western and Central\",\"Angola\",\"Albania\",\"Andorra\",\"Arab World\",\"United Arab Emirates\",\"Argentina\",\"Armenia\",\"American Samoa\",\"Antigua and Barbuda\",\"Australia\",\"Austria\",\"Azerbaijan\",\"Burundi\",\"Belgium\",\"Benin\",\"Burkina Faso\",\"Bangladesh\",\"Bulgaria\",\"Bahrain\",\"Bahamas, The\",\"Bosnia and Herzegovina\",\"Belarus\",\"Belize\",\"Bermuda\",\"Bolivia\",\"Brazil\",\"Barbados\",\"Brunei Darussalam\",\"Bhutan\",\"Botswana\",\"Central African Republic\",\"Canada\",\"Central Europe and the Baltics\",\"Switzerland\",\"Channel Islands\",\"Chile\",\"China\",\"Cote d'Ivoire\",\"Cameroon\",\"Congo, Dem. Rep.\",\"Congo, Rep.\",\"Colombia\",\"Comoros\",\"Cabo Verde\",\"Costa Rica\",\"Caribbean small states\",\"Cuba\",\"Curacao\",\"Cayman Islands\",\"Cyprus\",\"Czechia\",\"Germany\",\"Djibouti\",\"Dominica\",\"Denmark\",\"Dominican Republic\",\"Algeria\",\"East Asia & Pacific (excluding high income)\",\"Early-demographic dividend\",\"East Asia & Pacific\",\"Europe & Central Asia (excluding high income)\",\"Europe & Central Asia\",\"Ecuador\",\"Egypt, Arab Rep.\",\"Euro area\",\"Eritrea\",\"Spain\",\"Estonia\",\"Ethiopia\",\"European Union\",\"Fragile and conflict affected situations\",\"Finland\",\"Fiji\",\"France\",\"Faroe Islands\",\"Micronesia, Fed. Sts.\",\"Gabon\",\"United Kingdom\",\"Georgia\",\"Ghana\",\"Gibraltar\",\"Guinea\",\"Gambia, The\",\"Guinea-Bissau\",\"Equatorial Guinea\",\"Greece\",\"Grenada\",\"Greenland\",\"Guatemala\",\"Guam\",\"Guyana\",\"High income\",\"Hong Kong SAR, China\",\"Honduras\",\"Heavily indebted poor countries (HIPC)\",\"Croatia\",\"Haiti\",\"Hungary\",\"IBRD only\",\"IDA & IBRD total\",\"IDA total\",\"IDA blend\",\"Indonesia\",\"IDA only\",\"Isle of Man\",\"India\",\"Not classified\",\"Ireland\",\"Iran, Islamic Rep.\",\"Iraq\",\"Iceland\",\"Israel\",\"Italy\",\"Jamaica\",\"Jordan\",\"Japan\",\"Kazakhstan\",\"Kenya\",\"Kyrgyz Republic\",\"Cambodia\",\"Kiribati\",\"St. Kitts and Nevis\",\"Korea, Rep.\",\"Kuwait\",\"Latin America & Caribbean (excluding high income)\",\"Lao PDR\",\"Lebanon\",\"Liberia\",\"Libya\",\"St. Lucia\",\"Latin America & Caribbean\",\"Least developed countries: UN classification\",\"Low income\",\"Liechtenstein\",\"Sri Lanka\",\"Lower middle income\",\"Low & middle income\",\"Lesotho\",\"Late-demographic dividend\",\"Lithuania\",\"Luxembourg\",\"Latvia\",\"Macao SAR, China\",\"St. Martin (French part)\",\"Morocco\",\"Monaco\",\"Moldova\",\"Madagascar\",\"Maldives\",\"Middle East & North Africa\",\"Mexico\",\"Marshall Islands\",\"Middle income\",\"North Macedonia\",\"Mali\",\"Malta\",\"Myanmar\",\"Middle East & North Africa (excluding high income)\",\"Montenegro\",\"Mongolia\",\"Northern Mariana Islands\",\"Mozambique\",\"Mauritania\",\"Mauritius\",\"Malawi\",\"Malaysia\",\"North America\",\"Namibia\",\"New Caledonia\",\"Niger\",\"Nigeria\",\"Nicaragua\",\"Netherlands\",\"Norway\",\"Nepal\",\"Nauru\",\"New Zealand\",\"OECD members\",\"Oman\",\"Other small states\",\"Pakistan\",\"Panama\",\"Peru\",\"Philippines\",\"Palau\",\"Papua New Guinea\",\"Poland\",\"Pre-demographic dividend\",\"Puerto Rico\",\"Korea, Dem. People's Rep.\",\"Portugal\",\"Paraguay\",\"West Bank and Gaza\",\"Pacific island small states\",\"Post-demographic dividend\",\"French Polynesia\",\"Qatar\",\"Romania\",\"Russian Federation\",\"Rwanda\",\"South Asia\",\"Saudi Arabia\",\"Sudan\",\"Senegal\",\"Singapore\",\"Solomon Islands\",\"Sierra Leone\",\"El Salvador\",\"San Marino\",\"Somalia\",\"Serbia\",\"Sub-Saharan Africa (excluding high income)\",\"South Sudan\",\"Sub-Saharan Africa\",\"Small states\",\"Sao Tome and Principe\",\"Suriname\",\"Slovak Republic\",\"Slovenia\",\"Sweden\",\"Eswatini\",\"Sint Maarten (Dutch part)\",\"Seychelles\",\"Syrian Arab Republic\",\"Turks and Caicos Islands\",\"Chad\",\"East Asia & Pacific (IDA & IBRD countries)\",\"Europe & Central Asia (IDA & IBRD countries)\",\"Togo\",\"Thailand\",\"Tajikistan\",\"Turkmenistan\",\"Latin America & the Caribbean (IDA & IBRD countries)\",\"Timor-Leste\",\"Middle East & North Africa (IDA & IBRD countries)\",\"Tonga\",\"South Asia (IDA & IBRD)\",\"Sub-Saharan Africa (IDA & IBRD countries)\",\"Trinidad and Tobago\",\"Tunisia\",\"Turkiye\",\"Tuvalu\",\"Tanzania\",\"Uganda\",\"Ukraine\",\"Upper middle income\",\"Uruguay\",\"United States\",\"Uzbekistan\",\"St. Vincent and the Grenadines\",\"Venezuela, RB\",\"British Virgin Islands\",\"Virgin Islands (U.S.)\",\"Viet Nam\",\"Vanuatu\",\"World\",\"Samoa\",\"Kosovo\",\"Yemen, Rep.\",\"South Africa\",\"Zambia\",\"Zimbabwe\"],\"locationmode\":\"country names\",\"locations\":[\"Aruba\",\"Africa Eastern and Southern\",\"Afghanistan\",\"Africa Western and Central\",\"Angola\",\"Albania\",\"Andorra\",\"Arab World\",\"United Arab Emirates\",\"Argentina\",\"Armenia\",\"American Samoa\",\"Antigua and Barbuda\",\"Australia\",\"Austria\",\"Azerbaijan\",\"Burundi\",\"Belgium\",\"Benin\",\"Burkina Faso\",\"Bangladesh\",\"Bulgaria\",\"Bahrain\",\"Bahamas, The\",\"Bosnia and Herzegovina\",\"Belarus\",\"Belize\",\"Bermuda\",\"Bolivia\",\"Brazil\",\"Barbados\",\"Brunei Darussalam\",\"Bhutan\",\"Botswana\",\"Central African Republic\",\"Canada\",\"Central Europe and the Baltics\",\"Switzerland\",\"Channel Islands\",\"Chile\",\"China\",\"Cote d'Ivoire\",\"Cameroon\",\"Congo, Dem. Rep.\",\"Congo, Rep.\",\"Colombia\",\"Comoros\",\"Cabo Verde\",\"Costa Rica\",\"Caribbean small states\",\"Cuba\",\"Curacao\",\"Cayman Islands\",\"Cyprus\",\"Czechia\",\"Germany\",\"Djibouti\",\"Dominica\",\"Denmark\",\"Dominican Republic\",\"Algeria\",\"East Asia & Pacific (excluding high income)\",\"Early-demographic dividend\",\"East Asia & Pacific\",\"Europe & Central Asia (excluding high income)\",\"Europe & Central Asia\",\"Ecuador\",\"Egypt, Arab Rep.\",\"Euro area\",\"Eritrea\",\"Spain\",\"Estonia\",\"Ethiopia\",\"European Union\",\"Fragile and conflict affected situations\",\"Finland\",\"Fiji\",\"France\",\"Faroe Islands\",\"Micronesia, Fed. Sts.\",\"Gabon\",\"United Kingdom\",\"Georgia\",\"Ghana\",\"Gibraltar\",\"Guinea\",\"Gambia, The\",\"Guinea-Bissau\",\"Equatorial Guinea\",\"Greece\",\"Grenada\",\"Greenland\",\"Guatemala\",\"Guam\",\"Guyana\",\"High income\",\"Hong Kong SAR, China\",\"Honduras\",\"Heavily indebted poor countries (HIPC)\",\"Croatia\",\"Haiti\",\"Hungary\",\"IBRD only\",\"IDA & IBRD total\",\"IDA total\",\"IDA blend\",\"Indonesia\",\"IDA only\",\"Isle of Man\",\"India\",\"Not classified\",\"Ireland\",\"Iran, Islamic Rep.\",\"Iraq\",\"Iceland\",\"Israel\",\"Italy\",\"Jamaica\",\"Jordan\",\"Japan\",\"Kazakhstan\",\"Kenya\",\"Kyrgyz Republic\",\"Cambodia\",\"Kiribati\",\"St. Kitts and Nevis\",\"Korea, Rep.\",\"Kuwait\",\"Latin America & Caribbean (excluding high income)\",\"Lao PDR\",\"Lebanon\",\"Liberia\",\"Libya\",\"St. Lucia\",\"Latin America & Caribbean\",\"Least developed countries: UN classification\",\"Low income\",\"Liechtenstein\",\"Sri Lanka\",\"Lower middle income\",\"Low & middle income\",\"Lesotho\",\"Late-demographic dividend\",\"Lithuania\",\"Luxembourg\",\"Latvia\",\"Macao SAR, China\",\"St. Martin (French part)\",\"Morocco\",\"Monaco\",\"Moldova\",\"Madagascar\",\"Maldives\",\"Middle East & North Africa\",\"Mexico\",\"Marshall Islands\",\"Middle income\",\"North Macedonia\",\"Mali\",\"Malta\",\"Myanmar\",\"Middle East & North Africa (excluding high income)\",\"Montenegro\",\"Mongolia\",\"Northern Mariana Islands\",\"Mozambique\",\"Mauritania\",\"Mauritius\",\"Malawi\",\"Malaysia\",\"North America\",\"Namibia\",\"New Caledonia\",\"Niger\",\"Nigeria\",\"Nicaragua\",\"Netherlands\",\"Norway\",\"Nepal\",\"Nauru\",\"New Zealand\",\"OECD members\",\"Oman\",\"Other small states\",\"Pakistan\",\"Panama\",\"Peru\",\"Philippines\",\"Palau\",\"Papua New Guinea\",\"Poland\",\"Pre-demographic dividend\",\"Puerto Rico\",\"Korea, Dem. People's Rep.\",\"Portugal\",\"Paraguay\",\"West Bank and Gaza\",\"Pacific island small states\",\"Post-demographic dividend\",\"French Polynesia\",\"Qatar\",\"Romania\",\"Russian Federation\",\"Rwanda\",\"South Asia\",\"Saudi Arabia\",\"Sudan\",\"Senegal\",\"Singapore\",\"Solomon Islands\",\"Sierra Leone\",\"El Salvador\",\"San Marino\",\"Somalia\",\"Serbia\",\"Sub-Saharan Africa (excluding high income)\",\"South Sudan\",\"Sub-Saharan Africa\",\"Small states\",\"Sao Tome and Principe\",\"Suriname\",\"Slovak Republic\",\"Slovenia\",\"Sweden\",\"Eswatini\",\"Sint Maarten (Dutch part)\",\"Seychelles\",\"Syrian Arab Republic\",\"Turks and Caicos Islands\",\"Chad\",\"East Asia & Pacific (IDA & IBRD countries)\",\"Europe & Central Asia (IDA & IBRD countries)\",\"Togo\",\"Thailand\",\"Tajikistan\",\"Turkmenistan\",\"Latin America & the Caribbean (IDA & IBRD countries)\",\"Timor-Leste\",\"Middle East & North Africa (IDA & IBRD countries)\",\"Tonga\",\"South Asia (IDA & IBRD)\",\"Sub-Saharan Africa (IDA & IBRD countries)\",\"Trinidad and Tobago\",\"Tunisia\",\"Turkiye\",\"Tuvalu\",\"Tanzania\",\"Uganda\",\"Ukraine\",\"Upper middle income\",\"Uruguay\",\"United States\",\"Uzbekistan\",\"St. Vincent and the Grenadines\",\"Venezuela, RB\",\"British Virgin Islands\",\"Virgin Islands (U.S.)\",\"Viet Nam\",\"Vanuatu\",\"World\",\"Samoa\",\"Kosovo\",\"Yemen, Rep.\",\"South Africa\",\"Zambia\",\"Zimbabwe\"],\"name\":\"\",\"z\":[107310,731821393,40578842,497387180,35635029,2777689,79705,471352066,10074977,45407904,2969200,48342,92840,26014399,9041851,10141756,13321097,11680210,13759501,22509038,169384897,6643324,1524693,397538,3204802,9228071,402733,64749,12077154,210306415,282318,455370,780914,2439892,5098039,38939056,100289401,8777088,167215,19553036,1412175000,30395002,27632771,102396968,6035104,51737944,834188,519741,5081765,3131505,11059820,149996,71591,1331370,10672118,83797985,1137096,66826,5903037,11230734,45477389,2133560408,3470644834,2379648296,250834022,925385334,17823897,112618250,348627172,3409447,47759127,1348840,125384287,447847220,1038158122,5556106,919422,68065015,53952,112114,2430747,67791000,3712502,33149152,37609,14055137,2636470,2105529,1803545,10436882,116913,56661,17847877,165180,821637,1393036569,7346100,10463872,893906294,3855641,11503606,9644377,4928694202,6795222292,1866528090,621500917,278830529,1245027172,84132,1425423212,0,5165700,89524246,44070551,382003,9557500,59013667,2839144,11256263,125124989,20034609,54252461,6975220,17201724,130469,46709,51672569,4589643,590730587,7559007,5744489,5373294,7223805,178781,653104771,1134585604,716865783,39493,22181000,3041203716,6568731934,2286110,2324072106,2831639,653103,1879383,677300,28870,37329064,38931,2528654,30437261,524106,498070255,128613117,40077,5851866150,1831712,23072640,531511,53756787,432229148,617213,3433748,46078,32656246,4875637,1262523,20568728,34695493,372275216,2889662,287123,25311973,223150896,6730654,17700982,5457127,29715436,11801,5117200,1378506989,4730226,14217718,243700667,4400773,33475438,113964338,17759,10203169,36821749,1051201551,3220113,26328845,10434332,6760464,5043612,2656049,1117561802,280378,2657333,19048502,144236933,13651030,1932289074,32175224,49383346,17651103,5637022,781066,8276807,6280319,33755,17801897,6664449,1229088695,11021177,1229208573,20005272,226305,623164,5431752,2112076,10486941,1218917,42139,119878,22462173,45847,18455316,2107261123,461440170,9089738,71735329,10182222,7230193,637837815,1369295,427185536,105042,1932289074,1229208573,1365805,12119334,84979913,9992,64711821,47312719,41048766,2810662434,3390913,333271411,34938955,102046,28213017,38319,105413,99680655,313046,7989981520,215261,1768096,38222876,62378410,20152938,16069056],\"type\":\"choropleth\"}],                        {\"template\":{\"data\":{\"histogram2dcontour\":[{\"type\":\"histogram2dcontour\",\"colorbar\":{\"outlinewidth\":0,\"ticks\":\"\"},\"colorscale\":[[0.0,\"#0d0887\"],[0.1111111111111111,\"#46039f\"],[0.2222222222222222,\"#7201a8\"],[0.3333333333333333,\"#9c179e\"],[0.4444444444444444,\"#bd3786\"],[0.5555555555555556,\"#d8576b\"],[0.6666666666666666,\"#ed7953\"],[0.7777777777777778,\"#fb9f3a\"],[0.8888888888888888,\"#fdca26\"],[1.0,\"#f0f921\"]]}],\"choropleth\":[{\"type\":\"choropleth\",\"colorbar\":{\"outlinewidth\":0,\"ticks\":\"\"}}],\"histogram2d\":[{\"type\":\"histogram2d\",\"colorbar\":{\"outlinewidth\":0,\"ticks\":\"\"},\"colorscale\":[[0.0,\"#0d0887\"],[0.1111111111111111,\"#46039f\"],[0.2222222222222222,\"#7201a8\"],[0.3333333333333333,\"#9c179e\"],[0.4444444444444444,\"#bd3786\"],[0.5555555555555556,\"#d8576b\"],[0.6666666666666666,\"#ed7953\"],[0.7777777777777778,\"#fb9f3a\"],[0.8888888888888888,\"#fdca26\"],[1.0,\"#f0f921\"]]}],\"heatmap\":[{\"type\":\"heatmap\",\"colorbar\":{\"outlinewidth\":0,\"ticks\":\"\"},\"colorscale\":[[0.0,\"#0d0887\"],[0.1111111111111111,\"#46039f\"],[0.2222222222222222,\"#7201a8\"],[0.3333333333333333,\"#9c179e\"],[0.4444444444444444,\"#bd3786\"],[0.5555555555555556,\"#d8576b\"],[0.6666666666666666,\"#ed7953\"],[0.7777777777777778,\"#fb9f3a\"],[0.8888888888888888,\"#fdca26\"],[1.0,\"#f0f921\"]]}],\"heatmapgl\":[{\"type\":\"heatmapgl\",\"colorbar\":{\"outlinewidth\":0,\"ticks\":\"\"},\"colorscale\":[[0.0,\"#0d0887\"],[0.1111111111111111,\"#46039f\"],[0.2222222222222222,\"#7201a8\"],[0.3333333333333333,\"#9c179e\"],[0.4444444444444444,\"#bd3786\"],[0.5555555555555556,\"#d8576b\"],[0.6666666666666666,\"#ed7953\"],[0.7777777777777778,\"#fb9f3a\"],[0.8888888888888888,\"#fdca26\"],[1.0,\"#f0f921\"]]}],\"contourcarpet\":[{\"type\":\"contourcarpet\",\"colorbar\":{\"outlinewidth\":0,\"ticks\":\"\"}}],\"contour\":[{\"type\":\"contour\",\"colorbar\":{\"outlinewidth\":0,\"ticks\":\"\"},\"colorscale\":[[0.0,\"#0d0887\"],[0.1111111111111111,\"#46039f\"],[0.2222222222222222,\"#7201a8\"],[0.3333333333333333,\"#9c179e\"],[0.4444444444444444,\"#bd3786\"],[0.5555555555555556,\"#d8576b\"],[0.6666666666666666,\"#ed7953\"],[0.7777777777777778,\"#fb9f3a\"],[0.8888888888888888,\"#fdca26\"],[1.0,\"#f0f921\"]]}],\"surface\":[{\"type\":\"surface\",\"colorbar\":{\"outlinewidth\":0,\"ticks\":\"\"},\"colorscale\":[[0.0,\"#0d0887\"],[0.1111111111111111,\"#46039f\"],[0.2222222222222222,\"#7201a8\"],[0.3333333333333333,\"#9c179e\"],[0.4444444444444444,\"#bd3786\"],[0.5555555555555556,\"#d8576b\"],[0.6666666666666666,\"#ed7953\"],[0.7777777777777778,\"#fb9f3a\"],[0.8888888888888888,\"#fdca26\"],[1.0,\"#f0f921\"]]}],\"mesh3d\":[{\"type\":\"mesh3d\",\"colorbar\":{\"outlinewidth\":0,\"ticks\":\"\"}}],\"scatter\":[{\"fillpattern\":{\"fillmode\":\"overlay\",\"size\":10,\"solidity\":0.2},\"type\":\"scatter\"}],\"parcoords\":[{\"type\":\"parcoords\",\"line\":{\"colorbar\":{\"outlinewidth\":0,\"ticks\":\"\"}}}],\"scatterpolargl\":[{\"type\":\"scatterpolargl\",\"marker\":{\"colorbar\":{\"outlinewidth\":0,\"ticks\":\"\"}}}],\"bar\":[{\"error_x\":{\"color\":\"#2a3f5f\"},\"error_y\":{\"color\":\"#2a3f5f\"},\"marker\":{\"line\":{\"color\":\"#E5ECF6\",\"width\":0.5},\"pattern\":{\"fillmode\":\"overlay\",\"size\":10,\"solidity\":0.2}},\"type\":\"bar\"}],\"scattergeo\":[{\"type\":\"scattergeo\",\"marker\":{\"colorbar\":{\"outlinewidth\":0,\"ticks\":\"\"}}}],\"scatterpolar\":[{\"type\":\"scatterpolar\",\"marker\":{\"colorbar\":{\"outlinewidth\":0,\"ticks\":\"\"}}}],\"histogram\":[{\"marker\":{\"pattern\":{\"fillmode\":\"overlay\",\"size\":10,\"solidity\":0.2}},\"type\":\"histogram\"}],\"scattergl\":[{\"type\":\"scattergl\",\"marker\":{\"colorbar\":{\"outlinewidth\":0,\"ticks\":\"\"}}}],\"scatter3d\":[{\"type\":\"scatter3d\",\"line\":{\"colorbar\":{\"outlinewidth\":0,\"ticks\":\"\"}},\"marker\":{\"colorbar\":{\"outlinewidth\":0,\"ticks\":\"\"}}}],\"scattermapbox\":[{\"type\":\"scattermapbox\",\"marker\":{\"colorbar\":{\"outlinewidth\":0,\"ticks\":\"\"}}}],\"scatterternary\":[{\"type\":\"scatterternary\",\"marker\":{\"colorbar\":{\"outlinewidth\":0,\"ticks\":\"\"}}}],\"scattercarpet\":[{\"type\":\"scattercarpet\",\"marker\":{\"colorbar\":{\"outlinewidth\":0,\"ticks\":\"\"}}}],\"carpet\":[{\"aaxis\":{\"endlinecolor\":\"#2a3f5f\",\"gridcolor\":\"white\",\"linecolor\":\"white\",\"minorgridcolor\":\"white\",\"startlinecolor\":\"#2a3f5f\"},\"baxis\":{\"endlinecolor\":\"#2a3f5f\",\"gridcolor\":\"white\",\"linecolor\":\"white\",\"minorgridcolor\":\"white\",\"startlinecolor\":\"#2a3f5f\"},\"type\":\"carpet\"}],\"table\":[{\"cells\":{\"fill\":{\"color\":\"#EBF0F8\"},\"line\":{\"color\":\"white\"}},\"header\":{\"fill\":{\"color\":\"#C8D4E3\"},\"line\":{\"color\":\"white\"}},\"type\":\"table\"}],\"barpolar\":[{\"marker\":{\"line\":{\"color\":\"#E5ECF6\",\"width\":0.5},\"pattern\":{\"fillmode\":\"overlay\",\"size\":10,\"solidity\":0.2}},\"type\":\"barpolar\"}],\"pie\":[{\"automargin\":true,\"type\":\"pie\"}]},\"layout\":{\"autotypenumbers\":\"strict\",\"colorway\":[\"#636efa\",\"#EF553B\",\"#00cc96\",\"#ab63fa\",\"#FFA15A\",\"#19d3f3\",\"#FF6692\",\"#B6E880\",\"#FF97FF\",\"#FECB52\"],\"font\":{\"color\":\"#2a3f5f\"},\"hovermode\":\"closest\",\"hoverlabel\":{\"align\":\"left\"},\"paper_bgcolor\":\"white\",\"plot_bgcolor\":\"#E5ECF6\",\"polar\":{\"bgcolor\":\"#E5ECF6\",\"angularaxis\":{\"gridcolor\":\"white\",\"linecolor\":\"white\",\"ticks\":\"\"},\"radialaxis\":{\"gridcolor\":\"white\",\"linecolor\":\"white\",\"ticks\":\"\"}},\"ternary\":{\"bgcolor\":\"#E5ECF6\",\"aaxis\":{\"gridcolor\":\"white\",\"linecolor\":\"white\",\"ticks\":\"\"},\"baxis\":{\"gridcolor\":\"white\",\"linecolor\":\"white\",\"ticks\":\"\"},\"caxis\":{\"gridcolor\":\"white\",\"linecolor\":\"white\",\"ticks\":\"\"}},\"coloraxis\":{\"colorbar\":{\"outlinewidth\":0,\"ticks\":\"\"}},\"colorscale\":{\"sequential\":[[0.0,\"#0d0887\"],[0.1111111111111111,\"#46039f\"],[0.2222222222222222,\"#7201a8\"],[0.3333333333333333,\"#9c179e\"],[0.4444444444444444,\"#bd3786\"],[0.5555555555555556,\"#d8576b\"],[0.6666666666666666,\"#ed7953\"],[0.7777777777777778,\"#fb9f3a\"],[0.8888888888888888,\"#fdca26\"],[1.0,\"#f0f921\"]],\"sequentialminus\":[[0.0,\"#0d0887\"],[0.1111111111111111,\"#46039f\"],[0.2222222222222222,\"#7201a8\"],[0.3333333333333333,\"#9c179e\"],[0.4444444444444444,\"#bd3786\"],[0.5555555555555556,\"#d8576b\"],[0.6666666666666666,\"#ed7953\"],[0.7777777777777778,\"#fb9f3a\"],[0.8888888888888888,\"#fdca26\"],[1.0,\"#f0f921\"]],\"diverging\":[[0,\"#8e0152\"],[0.1,\"#c51b7d\"],[0.2,\"#de77ae\"],[0.3,\"#f1b6da\"],[0.4,\"#fde0ef\"],[0.5,\"#f7f7f7\"],[0.6,\"#e6f5d0\"],[0.7,\"#b8e186\"],[0.8,\"#7fbc41\"],[0.9,\"#4d9221\"],[1,\"#276419\"]]},\"xaxis\":{\"gridcolor\":\"white\",\"linecolor\":\"white\",\"ticks\":\"\",\"title\":{\"standoff\":15},\"zerolinecolor\":\"white\",\"automargin\":true,\"zerolinewidth\":2},\"yaxis\":{\"gridcolor\":\"white\",\"linecolor\":\"white\",\"ticks\":\"\",\"title\":{\"standoff\":15},\"zerolinecolor\":\"white\",\"automargin\":true,\"zerolinewidth\":2},\"scene\":{\"xaxis\":{\"backgroundcolor\":\"#E5ECF6\",\"gridcolor\":\"white\",\"linecolor\":\"white\",\"showbackground\":true,\"ticks\":\"\",\"zerolinecolor\":\"white\",\"gridwidth\":2},\"yaxis\":{\"backgroundcolor\":\"#E5ECF6\",\"gridcolor\":\"white\",\"linecolor\":\"white\",\"showbackground\":true,\"ticks\":\"\",\"zerolinecolor\":\"white\",\"gridwidth\":2},\"zaxis\":{\"backgroundcolor\":\"#E5ECF6\",\"gridcolor\":\"white\",\"linecolor\":\"white\",\"showbackground\":true,\"ticks\":\"\",\"zerolinecolor\":\"white\",\"gridwidth\":2}},\"shapedefaults\":{\"line\":{\"color\":\"#2a3f5f\"}},\"annotationdefaults\":{\"arrowcolor\":\"#2a3f5f\",\"arrowhead\":0,\"arrowwidth\":1},\"geo\":{\"bgcolor\":\"white\",\"landcolor\":\"#E5ECF6\",\"subunitcolor\":\"white\",\"showland\":true,\"showlakes\":true,\"lakecolor\":\"white\"},\"title\":{\"x\":0.05},\"mapbox\":{\"style\":\"light\"}}},\"geo\":{\"domain\":{\"x\":[0.0,1.0],\"y\":[0.0,1.0]},\"center\":{}},\"coloraxis\":{\"colorbar\":{\"title\":{\"text\":\"Population\"}},\"colorscale\":[[0.0,\"#0d0887\"],[0.1111111111111111,\"#46039f\"],[0.2222222222222222,\"#7201a8\"],[0.3333333333333333,\"#9c179e\"],[0.4444444444444444,\"#bd3786\"],[0.5555555555555556,\"#d8576b\"],[0.6666666666666666,\"#ed7953\"],[0.7777777777777778,\"#fb9f3a\"],[0.8888888888888888,\"#fdca26\"],[1.0,\"#f0f921\"]]},\"legend\":{\"tracegroupgap\":0},\"title\":{\"text\":\"Population by Country (2022)\"}},                        {\"responsive\": true}                    ).then(function(){\n",
       "                            \n",
       "var gd = document.getElementById('2ffd04ef-4bb4-4516-a8cf-563582adf63b');\n",
       "var x = new MutationObserver(function (mutations, observer) {{\n",
       "        var display = window.getComputedStyle(gd).display;\n",
       "        if (!display || display === 'none') {{\n",
       "            console.log([gd, 'removed!']);\n",
       "            Plotly.purge(gd);\n",
       "            observer.disconnect();\n",
       "        }}\n",
       "}});\n",
       "\n",
       "// Listen for the removal of the full notebook cells\n",
       "var notebookContainer = gd.closest('#notebook-container');\n",
       "if (notebookContainer) {{\n",
       "    x.observe(notebookContainer, {childList: true});\n",
       "}}\n",
       "\n",
       "// Listen for the clearing of the current output cell\n",
       "var outputEl = gd.closest('.output');\n",
       "if (outputEl) {{\n",
       "    x.observe(outputEl, {childList: true});\n",
       "}}\n",
       "\n",
       "                        })                };                });            </script>        </div>"
      ]
     },
     "metadata": {},
     "output_type": "display_data"
    }
   ],
   "source": [
    "# Choropleth Map\n",
    "df_map = df[df['years'] == 2022]\n",
    "\n",
    "fig = px.choropleth(df_map,\n",
    "                    locations='Country Name',\n",
    "                    locationmode='country names',\n",
    "                    color='Population',\n",
    "                    hover_name='Country Name',\n",
    "                    color_continuous_scale='Plasma',\n",
    "                    title='Population by Country (2022)')\n",
    "fig.show()\n"
   ]
  },
  {
   "cell_type": "markdown",
   "id": "7f6ad172-37f5-4a6b-b35a-aaafa97ef622",
   "metadata": {},
   "source": [
    "# Spliting date into training and testing set"
   ]
  },
  {
   "cell_type": "code",
   "execution_count": null,
   "id": "2213bc36-dcf0-4fa4-b36d-4664f34943f9",
   "metadata": {},
   "outputs": [
    {
     "ename": "NameError",
     "evalue": "name 'X' is not defined",
     "output_type": "error",
     "traceback": [
      "\u001b[1;31m---------------------------------------------------------------------------\u001b[0m",
      "\u001b[1;31mNameError\u001b[0m                                 Traceback (most recent call last)",
      "Cell \u001b[1;32mIn[356], line 2\u001b[0m\n\u001b[0;32m      1\u001b[0m \u001b[38;5;28;01mfrom\u001b[39;00m \u001b[38;5;21;01msklearn\u001b[39;00m\u001b[38;5;21;01m.\u001b[39;00m\u001b[38;5;21;01mmodel_selection\u001b[39;00m \u001b[38;5;28;01mimport\u001b[39;00m train_test_split\n\u001b[1;32m----> 2\u001b[0m X_train, X_test, y_train, y_test \u001b[38;5;241m=\u001b[39m train_test_split(X, y, test_size\u001b[38;5;241m=\u001b[39m\u001b[38;5;241m0.2\u001b[39m, random_state\u001b[38;5;241m=\u001b[39m\u001b[38;5;241m42\u001b[39m)\n",
      "\u001b[1;31mNameError\u001b[0m: name 'X' is not defined"
     ]
    }
   ],
   "source": []
  },
  {
   "cell_type": "code",
   "execution_count": null,
   "id": "405eab07-8c67-4642-877b-2796074ada5a",
   "metadata": {},
   "outputs": [],
   "source": []
  }
 ],
 "metadata": {
  "kernelspec": {
   "display_name": "Python 3 (ipykernel)",
   "language": "python",
   "name": "python3"
  },
  "language_info": {
   "codemirror_mode": {
    "name": "ipython",
    "version": 3
   },
   "file_extension": ".py",
   "mimetype": "text/x-python",
   "name": "python",
   "nbconvert_exporter": "python",
   "pygments_lexer": "ipython3",
   "version": "3.12.7"
  }
 },
 "nbformat": 4,
 "nbformat_minor": 5
}
